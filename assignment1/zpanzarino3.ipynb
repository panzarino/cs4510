{
 "cells": [
  {
   "cell_type": "code",
   "execution_count": 1,
   "metadata": {},
   "outputs": [],
   "source": [
    "from collections import defaultdict"
   ]
  },
  {
   "cell_type": "markdown",
   "metadata": {},
   "source": [
    "### An implementation of an NFA class that computes on a input strings"
   ]
  },
  {
   "cell_type": "code",
   "execution_count": 84,
   "metadata": {},
   "outputs": [],
   "source": [
    "class NFA:\n",
    "    def __init__(self, transition_file):\n",
    "        self.transitions = defaultdict(frozenset) \n",
    "        self.alphabet = set()\n",
    "        with open(transition_file, 'r') as file:\n",
    "            line = '#'\n",
    "            while line.startswith('#') or line=='':\n",
    "                line = next(file).strip()\n",
    "            \n",
    "            self.start, acc = line.split(' ')\n",
    "            self.accept = acc.split(',')\n",
    "            for line in file:\n",
    "                line = line.strip()\n",
    "                if line.startswith('#') or line=='':\n",
    "                    continue\n",
    "                    \n",
    "                parts = line.replace(\" \",\"\").split(\"->\")\n",
    "                state, symbol = parts[0].split(\",\")\n",
    "                if symbol:\n",
    "                    self.alphabet.add(symbol)\n",
    "                self.transitions[(state,symbol)] = frozenset(parts[1].split(\",\"))\n",
    "\n",
    "        \n",
    "    def __repr__(self):\n",
    "        ret = 'Symbols: '+(\",\".join(list(self.alphabet)))\n",
    "        ret += \"\\nStart state: \" + self.start\n",
    "        ret += \"\\nAccept state(s):\" + \",\".join(self.accept)\n",
    "        ret += \"\\nTransitions:\"\n",
    "        for state_symbol in self.transitions:\n",
    "            state, symbol = state_symbol\n",
    "            end_states = self.transitions[state_symbol]\n",
    "            ret+=f\"\\n{state_symbol} -> {end_states}\"\n",
    "            \n",
    "        return ret\n",
    "    \n",
    "    def compute(self, string):\n",
    "        #TODO: compute on the NFA, create a tree (similar to the one discussed)\n",
    "        #in lectures and accept a string if upon consuming all the string,\n",
    "        #one of the end states is an accept state, otherwise reject.\n",
    "        #Using frozenset, a set that is hashable, may come in handy.\n",
    "        \n",
    "        state = frozenset([self.start])\n",
    "        \n",
    "        next_state_initial = [self.start]\n",
    "        for s in state:\n",
    "            for n in self.transitions[(s, '')]:\n",
    "                next_state_initial.append(n)\n",
    "        state = frozenset(next_state_initial)\n",
    "        \n",
    "        for x in string:\n",
    "            next_state = []\n",
    "            for s in state:\n",
    "                for n in self.transitions[(s, x)]:\n",
    "                    next_state.append(n)\n",
    "                    for z in self.transitions[(n, '')]:\n",
    "                        next_state.append(z)\n",
    "            state = frozenset(next_state)\n",
    "        \n",
    "        result = 'reject'\n",
    "        for s in state:\n",
    "            if s in self.accept:\n",
    "                result = 'accept'\n",
    "        \n",
    "        return result\n",
    "    \n",
    "        "
   ]
  },
  {
   "cell_type": "markdown",
   "metadata": {},
   "source": [
    "### Creating a sample NFA that accepts $0^n$ and $(01)^n$"
   ]
  },
  {
   "cell_type": "code",
   "execution_count": 85,
   "metadata": {},
   "outputs": [],
   "source": [
    "with open ('sample_transitions.txt', 'w') as file:\n",
    "    file.write(\"\"\"\n",
    "#start_state accept_states\n",
    "q0 q1,q2\n",
    "q0, -> q1,q2\n",
    "q1,0 -> q1\n",
    "q2,0 -> q3\n",
    "q3,1 -> q2\n",
    "\"\"\")"
   ]
  },
  {
   "cell_type": "code",
   "execution_count": 86,
   "metadata": {},
   "outputs": [
    {
     "name": "stdout",
     "output_type": "stream",
     "text": [
      "Symbols: 0,1\n",
      "Start state: q0\n",
      "Accept state(s):q1,q2\n",
      "Transitions:\n",
      "('q0', '') -> frozenset({'q2', 'q1'})\n",
      "('q1', '0') -> frozenset({'q1'})\n",
      "('q2', '0') -> frozenset({'q3'})\n",
      "('q3', '1') -> frozenset({'q2'})\n"
     ]
    }
   ],
   "source": [
    "nfa = NFA('./sample_transitions.txt')\n",
    "print(nfa)"
   ]
  },
  {
   "cell_type": "markdown",
   "metadata": {},
   "source": [
    "### Tests"
   ]
  },
  {
   "cell_type": "code",
   "execution_count": 87,
   "metadata": {},
   "outputs": [],
   "source": [
    "#Your code should pass the following tests, and others if we add\n",
    "#Also, please test your code on other NFAs, too make sure it is working \n",
    "#correctly.\n",
    "\n",
    "# Given code, which is incorrect\n",
    "# assert nfa.compute(\"\", \"accept\"), \"Empty string should be accepted\"\n",
    "# assert nfa.compute(\"0\", \"accept\"), \"0 should be accepted\"\n",
    "# assert nfa.compute(\"010\", \"reject\"), \"010 does not belong to the language\"\n",
    "# assert nfa.compute('01'*10, \"accept\"), \"(01)^10 is part of the language.\"\n",
    "# assert nfa.compute('0'*10, \"accept\"), \"0^10 is part of the language.\"\n",
    "\n",
    "# My corrected syntax tests, which check the same thing\n",
    "assert nfa.compute(\"\") == \"accept\", \"Empty string should be accepted\"\n",
    "assert nfa.compute(\"0\") == \"accept\", \"0 should be accepted\"\n",
    "assert nfa.compute(\"010\") == \"reject\", \"010 does not belong to the language\"\n",
    "assert nfa.compute('01'*10) == \"accept\", \"(01)^10 is part of the language.\"\n",
    "assert nfa.compute('0'*10) == \"accept\", \"0^10 is part of the language.\""
   ]
  },
  {
   "cell_type": "markdown",
   "metadata": {},
   "source": [
    "### Submissions"
   ]
  },
  {
   "cell_type": "markdown",
   "metadata": {},
   "source": [
    "Please fillin the \"compute\" function and test your code with a number of differnt NFAs. Once you made sure it is bug free submit your jupyter notebook in Gradescope.\n",
    "\n",
    "IMPORTANT: Please rename your notebook to your GTID.ipyn (e.g. hhassanzadeh3.ipynb) before submission."
   ]
  },
  {
   "cell_type": "code",
   "execution_count": 88,
   "metadata": {},
   "outputs": [
    {
     "name": "stdout",
     "output_type": "stream",
     "text": [
      "Symbols: a,b\n",
      "Start state: q1\n",
      "Accept state(s):q1\n",
      "Transitions:\n",
      "('q1', 'b') -> frozenset({'q2'})\n",
      "('q1', '') -> frozenset({'q3'})\n",
      "('q2', 'a') -> frozenset({'q3', 'q2'})\n",
      "('q2', 'b') -> frozenset({'q3'})\n",
      "('q3', 'a') -> frozenset({'q1'})\n"
     ]
    }
   ],
   "source": [
    "# custom test case that comes from the book\n",
    "\n",
    "import random\n",
    "\n",
    "with open ('booktest3.txt', 'w') as file:\n",
    "    file.write(\"\"\"\n",
    "    #start_state accept_states\n",
    "    q1 q1\n",
    "    q1,b -> q2\n",
    "    q1, -> q3\n",
    "    q2,a -> q2,q3\n",
    "    q2,b -> q3\n",
    "    q3,a -> q1\n",
    "    \"\"\")\n",
    "\n",
    "nfa = NFA('./booktest3.txt')\n",
    "print(nfa)\n",
    "\n",
    "assert nfa.compute(\"\") == \"accept\", \"Empty string should be accepted\"\n",
    "assert nfa.compute(\"a\") == \"accept\", \"a should be accepted\"\n",
    "assert nfa.compute(\"baba\") == \"accept\", \"baba should be accepted\"\n",
    "assert nfa.compute(\"baa\") == \"accept\", \"baa should be accepted\"\n",
    "assert nfa.compute(\"b\") == \"reject\", \"b should be rejected\"\n",
    "assert nfa.compute(\"bb\") == \"reject\", \"bb should be rejected\"\n",
    "assert nfa.compute(\"babba\") == \"reject\", \"babba should be rejected\"\n",
    "\n",
    "for _ in range(100):\n",
    "    assert nfa.compute(\"b\" * random.randint(1, 100)) == \"reject\", \"strings of all b's should be rejected\""
   ]
  },
  {
   "cell_type": "code",
   "execution_count": null,
   "metadata": {},
   "outputs": [],
   "source": []
  },
  {
   "cell_type": "code",
   "execution_count": null,
   "metadata": {},
   "outputs": [],
   "source": []
  }
 ],
 "metadata": {
  "kernelspec": {
   "display_name": "Python 3",
   "language": "python",
   "name": "python3"
  },
  "language_info": {
   "codemirror_mode": {
    "name": "ipython",
    "version": 3
   },
   "file_extension": ".py",
   "mimetype": "text/x-python",
   "name": "python",
   "nbconvert_exporter": "python",
   "pygments_lexer": "ipython3",
   "version": "3.7.4"
  }
 },
 "nbformat": 4,
 "nbformat_minor": 2
}
